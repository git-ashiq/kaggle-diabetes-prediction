{
  "nbformat": 4,
  "nbformat_minor": 0,
  "metadata": {
    "colab": {
      "name": "diabetes-prediction.ipynb",
      "provenance": [],
      "authorship_tag": "ABX9TyPztnKqdiOgCN7meZlQwURe",
      "include_colab_link": true
    },
    "kernelspec": {
      "name": "python3",
      "display_name": "Python 3"
    }
  },
  "cells": [
    {
      "cell_type": "markdown",
      "metadata": {
        "id": "view-in-github",
        "colab_type": "text"
      },
      "source": [
        "<a href=\"https://colab.research.google.com/github/git-ashiq/kaggle-diabetes-prediction/blob/master/diabetes_prediction.ipynb\" target=\"_parent\"><img src=\"https://colab.research.google.com/assets/colab-badge.svg\" alt=\"Open In Colab\"/></a>"
      ]
    },
    {
      "cell_type": "markdown",
      "metadata": {
        "id": "PrglEWRwYlct",
        "colab_type": "text"
      },
      "source": [
        "# **Pima Indians Diabetes Database**\n",
        "\n",
        "**The Challenge:**\n",
        "\n",
        "To build a machine learning model to accurately predict whether or not the patients in the dataset have diabetes or not?\n",
        "\n",
        "**Steps:**\n",
        "\n",
        "1.   Question or problem definition\n",
        "2.   Data Collection\n",
        "3.   Exploratory Data Analysis\n",
        "4.   Feature Engineering\n",
        "5.   Modelling\n",
        "6.   Testing\n",
        "7.   Submitting\n",
        "\n",
        "\n",
        "\n",
        "\n",
        "\n",
        "\n",
        "\n",
        "\n",
        "\n"
      ]
    },
    {
      "cell_type": "markdown",
      "metadata": {
        "id": "VT6VTx_CZyLV",
        "colab_type": "text"
      },
      "source": [
        "### **1. Defining the problem statement**\n",
        "\n",
        "**Context:**\n",
        "\n",
        "This dataset is originally from the National Institute of Diabetes and Digestive and Kidney Diseases. The objective of the dataset is to diagnostically predict whether or not a patient has diabetes, based on certain diagnostic measurements included in the dataset. Several constraints were placed on the selection of these instances from a larger database. In particular, all patients here are females at least 21 years old of Pima Indian heritage.\n",
        "\n",
        "**Content:**\n",
        "\n",
        "The datasets consists of several medical predictor variables and one target variable, Outcome. Predictor variables includes the number of pregnancies the patient has had, their BMI, insulin level, age, and so on."
      ]
    },
    {
      "cell_type": "markdown",
      "metadata": {
        "id": "S72brv1dd1le",
        "colab_type": "text"
      },
      "source": [
        "**Let us first learn about the diabetes.**"
      ]
    },
    {
      "cell_type": "code",
      "metadata": {
        "id": "20Gok1yBxxDY",
        "colab_type": "code",
        "outputId": "a08ef7ab-b804-4047-cfad-32d7b90e0d7b",
        "colab": {
          "base_uri": "https://localhost:8080/",
          "height": 336
        }
      },
      "source": [
        "# To display video about diabetes for more information\n",
        "from IPython.core.display import HTML\n",
        "HTML('''<iframe width=\"560\" height=\"315\" src=\"https://www.youtube.com/embed/XfyGv-xwjlI\" frameborder=\"0\"\n",
        "     allow=\"accelerometer; autoplay; encrypted-media; gyroscope; picture-in-picture\" allowfullscreen></iframe>''')"
      ],
      "execution_count": 0,
      "outputs": [
        {
          "output_type": "execute_result",
          "data": {
            "text/html": [
              "<iframe width=\"560\" height=\"315\" src=\"https://www.youtube.com/embed/XfyGv-xwjlI\" frameborder=\"0\"\n",
              "     allow=\"accelerometer; autoplay; encrypted-media; gyroscope; picture-in-picture\" allowfullscreen></iframe>"
            ],
            "text/plain": [
              "<IPython.core.display.HTML object>"
            ]
          },
          "metadata": {
            "tags": []
          },
          "execution_count": 20
        }
      ]
    },
    {
      "cell_type": "markdown",
      "metadata": {
        "id": "IzZ48Gp1qiVn",
        "colab_type": "text"
      },
      "source": [
        "\n",
        "\n",
        "---\n",
        "\n"
      ]
    },
    {
      "cell_type": "markdown",
      "metadata": {
        "id": "a5B04tyQhrNa",
        "colab_type": "text"
      },
      "source": [
        "### **2. Data Collection**\n",
        "Collecting data from kaggle. you can download it from https://www.kaggle.com/uciml/pima-indians-diabetes-database#diabetes.csv\n",
        "\n"
      ]
    },
    {
      "cell_type": "markdown",
      "metadata": {
        "id": "GA_Z3fIKpuDG",
        "colab_type": "text"
      },
      "source": [
        "**2.1 Load libraries**"
      ]
    },
    {
      "cell_type": "code",
      "metadata": {
        "id": "ILHfQj6ehqz_",
        "colab_type": "code",
        "colab": {}
      },
      "source": [
        "# Import Pandas for Data Manipulation and analyse\n",
        "import pandas as pd\n",
        "import numpy as np\n",
        "\n",
        "# Visulization library\n",
        "import matplotlib.pyplot as plt\n",
        "%matplotlib inline\n",
        "\n",
        "#  Visualization library based on matplotlib. It provides a high-level interface for drawing attractive and informative statistical graphics\n",
        "import seaborn as sns\n",
        "sns.set() # setting seaborn as default for plots\n",
        "\n",
        "# To suppress the warnings\n",
        "import warnings\n",
        "\n",
        "# Customizing the properties and default styles.\n",
        "plt.style.use('fivethirtyeight')\n"
      ],
      "execution_count": 0,
      "outputs": []
    },
    {
      "cell_type": "code",
      "metadata": {
        "id": "z2ewnpyhogeb",
        "colab_type": "code",
        "colab": {}
      },
      "source": [
        "# load dataset\n",
        "data = pd.read_csv('https://raw.githubusercontent.com/git-ashiq/kaggle-diabetes-prediction/master/data/diabetes.csv')"
      ],
      "execution_count": 0,
      "outputs": []
    },
    {
      "cell_type": "markdown",
      "metadata": {
        "id": "KJk2cYqzqgyI",
        "colab_type": "text"
      },
      "source": [
        "\n",
        "\n",
        "---\n",
        "\n"
      ]
    },
    {
      "cell_type": "markdown",
      "metadata": {
        "id": "Ju6uu-VDqHyu",
        "colab_type": "text"
      },
      "source": [
        "### **3.1 Exploratory Analysis**\n",
        "\n",
        "In this stage, we will anaylze the data by following two methods and try to understand the patterns of the data.\n",
        "*   Analyse by Describing data\n",
        "*   Analyse by Visualizing data\n"
      ]
    },
    {
      "cell_type": "markdown",
      "metadata": {
        "id": "gny-0HNLqrAL",
        "colab_type": "text"
      },
      "source": [
        "#### **3.1 Analyze by Describing data**\n",
        "Data Dictionary, Data Types, Data Informations, Data Statistical Informations"
      ]
    },
    {
      "cell_type": "code",
      "metadata": {
        "id": "nsSbL2CSouWL",
        "colab_type": "code",
        "colab": {
          "base_uri": "https://localhost:8080/",
          "height": 202
        },
        "outputId": "0b23beed-5dec-45ac-8214-972eb0fcbf5a"
      },
      "source": [
        "# head() method is used to return top n (5 by default) rows\n",
        "data.head()"
      ],
      "execution_count": 24,
      "outputs": [
        {
          "output_type": "execute_result",
          "data": {
            "text/html": [
              "<div>\n",
              "<style scoped>\n",
              "    .dataframe tbody tr th:only-of-type {\n",
              "        vertical-align: middle;\n",
              "    }\n",
              "\n",
              "    .dataframe tbody tr th {\n",
              "        vertical-align: top;\n",
              "    }\n",
              "\n",
              "    .dataframe thead th {\n",
              "        text-align: right;\n",
              "    }\n",
              "</style>\n",
              "<table border=\"1\" class=\"dataframe\">\n",
              "  <thead>\n",
              "    <tr style=\"text-align: right;\">\n",
              "      <th></th>\n",
              "      <th>Pregnancies</th>\n",
              "      <th>Glucose</th>\n",
              "      <th>BloodPressure</th>\n",
              "      <th>SkinThickness</th>\n",
              "      <th>Insulin</th>\n",
              "      <th>BMI</th>\n",
              "      <th>DiabetesPedigreeFunction</th>\n",
              "      <th>Age</th>\n",
              "      <th>Outcome</th>\n",
              "    </tr>\n",
              "  </thead>\n",
              "  <tbody>\n",
              "    <tr>\n",
              "      <th>0</th>\n",
              "      <td>6</td>\n",
              "      <td>148</td>\n",
              "      <td>72</td>\n",
              "      <td>35</td>\n",
              "      <td>0</td>\n",
              "      <td>33.6</td>\n",
              "      <td>0.627</td>\n",
              "      <td>50</td>\n",
              "      <td>1</td>\n",
              "    </tr>\n",
              "    <tr>\n",
              "      <th>1</th>\n",
              "      <td>1</td>\n",
              "      <td>85</td>\n",
              "      <td>66</td>\n",
              "      <td>29</td>\n",
              "      <td>0</td>\n",
              "      <td>26.6</td>\n",
              "      <td>0.351</td>\n",
              "      <td>31</td>\n",
              "      <td>0</td>\n",
              "    </tr>\n",
              "    <tr>\n",
              "      <th>2</th>\n",
              "      <td>8</td>\n",
              "      <td>183</td>\n",
              "      <td>64</td>\n",
              "      <td>0</td>\n",
              "      <td>0</td>\n",
              "      <td>23.3</td>\n",
              "      <td>0.672</td>\n",
              "      <td>32</td>\n",
              "      <td>1</td>\n",
              "    </tr>\n",
              "    <tr>\n",
              "      <th>3</th>\n",
              "      <td>1</td>\n",
              "      <td>89</td>\n",
              "      <td>66</td>\n",
              "      <td>23</td>\n",
              "      <td>94</td>\n",
              "      <td>28.1</td>\n",
              "      <td>0.167</td>\n",
              "      <td>21</td>\n",
              "      <td>0</td>\n",
              "    </tr>\n",
              "    <tr>\n",
              "      <th>4</th>\n",
              "      <td>0</td>\n",
              "      <td>137</td>\n",
              "      <td>40</td>\n",
              "      <td>35</td>\n",
              "      <td>168</td>\n",
              "      <td>43.1</td>\n",
              "      <td>2.288</td>\n",
              "      <td>33</td>\n",
              "      <td>1</td>\n",
              "    </tr>\n",
              "  </tbody>\n",
              "</table>\n",
              "</div>"
            ],
            "text/plain": [
              "   Pregnancies  Glucose  BloodPressure  ...  DiabetesPedigreeFunction  Age  Outcome\n",
              "0            6      148             72  ...                     0.627   50        1\n",
              "1            1       85             66  ...                     0.351   31        0\n",
              "2            8      183             64  ...                     0.672   32        1\n",
              "3            1       89             66  ...                     0.167   21        0\n",
              "4            0      137             40  ...                     2.288   33        1\n",
              "\n",
              "[5 rows x 9 columns]"
            ]
          },
          "metadata": {
            "tags": []
          },
          "execution_count": 24
        }
      ]
    },
    {
      "cell_type": "code",
      "metadata": {
        "id": "LnuyPxXZq_sS",
        "colab_type": "code",
        "colab": {
          "base_uri": "https://localhost:8080/",
          "height": 52
        },
        "outputId": "73bdc0bb-750b-4ae7-b8c8-ec01d1108be7"
      },
      "source": [
        "# To display the column names of the dataset.\n",
        "print(data.columns.values)"
      ],
      "execution_count": 26,
      "outputs": [
        {
          "output_type": "stream",
          "text": [
            "['Pregnancies' 'Glucose' 'BloodPressure' 'SkinThickness' 'Insulin' 'BMI'\n",
            " 'DiabetesPedigreeFunction' 'Age' 'Outcome']\n"
          ],
          "name": "stdout"
        }
      ]
    },
    {
      "cell_type": "markdown",
      "metadata": {
        "id": "Yi1HU5WArbTH",
        "colab_type": "text"
      },
      "source": [
        "**Data Dictionary**\n",
        "\n",
        "1.   PregnanciesNumber of times pregnant\n",
        "2.   GlucosePlasma glucose concentration a 2 hours in an oral glucose tolerance test\n",
        "3.   BloodPressureDiastolic blood pressure (mm Hg)\n",
        "4.   SkinThicknessTriceps skin fold thickness (mm)\n",
        "5.   Insulin2-Hour serum insulin (mu U/ml)\n",
        "6.   BMIBody mass index (weight in kg/(height in m)^2)\n",
        "7.   DiabetesPedigreeFunctionDiabetes pedigree function\n",
        "8.   AgeAge (years)\n",
        "9.   OutcomeClass variable (0 or 1) 268 of 768 are 1, the others are 0\n",
        "\n",
        "\n",
        "---\n",
        "\n",
        "\n",
        "**Data Types:**\n",
        "\n",
        "*   Nominal categorical features: Outcome.\n",
        "*   Ordinal categorical features: -\n",
        "*   Continous numerical features: Glucose, BloodPressure, SkinThickness, Insulin, BMI DiabetesPedigreeFunction, Age.\n",
        "*   Discrete numerical features : Pregnancies.\n",
        "*   Alphanumeric: -\n",
        "*   Typos: -\n",
        "\n",
        "\n",
        "---"
      ]
    },
    {
      "cell_type": "markdown",
      "metadata": {
        "id": "uUzqxPDTvH-c",
        "colab_type": "text"
      },
      "source": [
        "**Data Information:**\n",
        "\n",
        "General data information"
      ]
    },
    {
      "cell_type": "code",
      "metadata": {
        "id": "HJ_sHEMBrYqU",
        "colab_type": "code",
        "colab": {
          "base_uri": "https://localhost:8080/",
          "height": 260
        },
        "outputId": "7676ae0a-8c99-4267-815a-8fbcac582a85"
      },
      "source": [
        "# print the information of the datasets\n",
        "data.info()"
      ],
      "execution_count": 27,
      "outputs": [
        {
          "output_type": "stream",
          "text": [
            "<class 'pandas.core.frame.DataFrame'>\n",
            "RangeIndex: 768 entries, 0 to 767\n",
            "Data columns (total 9 columns):\n",
            "Pregnancies                 768 non-null int64\n",
            "Glucose                     768 non-null int64\n",
            "BloodPressure               768 non-null int64\n",
            "SkinThickness               768 non-null int64\n",
            "Insulin                     768 non-null int64\n",
            "BMI                         768 non-null float64\n",
            "DiabetesPedigreeFunction    768 non-null float64\n",
            "Age                         768 non-null int64\n",
            "Outcome                     768 non-null int64\n",
            "dtypes: float64(2), int64(7)\n",
            "memory usage: 54.1 KB\n"
          ],
          "name": "stdout"
        }
      ]
    }
  ]
}